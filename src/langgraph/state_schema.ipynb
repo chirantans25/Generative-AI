{
 "cells": [
  {
   "cell_type": "code",
   "execution_count": 16,
   "metadata": {},
   "outputs": [
    {
     "data": {
      "image/png": "[encoded data removed]",
      "text/plain": [
       "<IPython.core.display.Image object>"
      ]
     },
     "metadata": {},
     "output_type": "display_data"
    }
   ],
   "source": [
    "from typing import TypedDict, Literal\n",
    "from langgraph.graph import StateGraph, START, END\n",
    "import random\n",
    "from IPython.display import display, Image\n",
    "\n",
    "class MyTypedDictState(TypedDict):\n",
    "    name: str\n",
    "    mood: Literal[\"happy\",\"sad\"]\n",
    "\n",
    "# Node takes a state object and returns an updated state object\n",
    "# In our case, state object that my graph is tracking is a Dictionary object as defined in MyTypedDictState class\n",
    "def my_name(state):\n",
    "    print('Node 1 hit:')\n",
    "    return {\"name\":state[\"name\"]+\"'s mood is: \"}\n",
    "\n",
    "def happy(state):\n",
    "    print('Happy node hit:')\n",
    "    return {\"mood\":\"happy\"}\n",
    "\n",
    "def sad(state):\n",
    "    print('Sad node hit:')\n",
    "    return {\"mood\":\"sad\"}\n",
    "\n",
    "def decide_mood(state)->Literal[\"happy\", \"sad\"]:\n",
    "    value = random.random()\n",
    "    print(f'Condition node hit: Random value: {value}')\n",
    "    if value > 0.5:\n",
    "        return \"happy\"\n",
    "    else:\n",
    "        return \"sad\"\n",
    "\n",
    "builder = StateGraph(MyTypedDictState)\n",
    "builder.add_node(\"my_name\", my_name)\n",
    "builder.add_node(\"happy\", happy)\n",
    "builder.add_node(\"sad\", sad)\n",
    "\n",
    "builder.add_edge(START, \"my_name\")\n",
    "builder.add_conditional_edges(\"my_name\", decide_mood)\n",
    "builder.add_edge(\"happy\", END)\n",
    "builder.add_edge(\"sad\", END)\n",
    "\n",
    "graph = builder.compile()\n",
    "\n",
    "\n",
    "display(Image(graph.get_graph().draw_mermaid_png()))\n",
    "\n",
    "\n"
   ]
  },
  {
   "cell_type": "code",
   "execution_count": 18,
   "metadata": {},
   "outputs": [
    {
     "name": "stdout",
     "output_type": "stream",
     "text": [
      "Node 1 hit:\n",
      "Condition node hit: Random value: 0.5468440489406521\n",
      "Happy node hit:\n"
     ]
    },
    {
     "data": {
      "text/plain": [
       "{'name': \"Chirantan's mood is: \", 'mood': 'happy'}"
      ]
     },
     "execution_count": 18,
     "metadata": {},
     "output_type": "execute_result"
    }
   ],
   "source": [
    "response = graph.invoke({\"name\":\"Chirantan\",\"mood\":\"happy\"})\n",
    "response"
   ]
  },
  {
   "cell_type": "markdown",
   "metadata": {},
   "source": [
    "### Lets pass a bad state and verify if there are any runtime errors"
   ]
  },
  {
   "cell_type": "code",
   "execution_count": 20,
   "metadata": {},
   "outputs": [
    {
     "name": "stdout",
     "output_type": "stream",
     "text": [
      "Node 1 hit:\n",
      "Condition node hit: Random value: 0.7607534554645327\n",
      "Happy node hit:\n"
     ]
    },
    {
     "data": {
      "text/plain": [
       "{'name': \"Chirantan's mood is: \", 'mood': 'happy'}"
      ]
     },
     "execution_count": 20,
     "metadata": {},
     "output_type": "execute_result"
    }
   ],
   "source": [
    "response = graph.invoke({\"name\":\"Chirantan\",\"mood\":\"bad\"})\n",
    "response"
   ]
  },
  {
   "cell_type": "markdown",
   "metadata": {},
   "source": [
    "## Python dataclasses or Pydantic to the rescue"
   ]
  },
  {
   "cell_type": "code",
   "execution_count": null,
   "metadata": {},
   "outputs": [],
   "source": []
  }
 ],
 "metadata": {
  "kernelspec": {
   "display_name": "genai_concepts",
   "language": "python",
   "name": "python3"
  },
  "language_info": {
   "codemirror_mode": {
    "name": "ipython",
    "version": 3
   },
   "file_extension": ".py",
   "mimetype": "text/x-python",
   "name": "python",
   "nbconvert_exporter": "python",
   "pygments_lexer": "ipython3",
   "version": "3.13.1"
  }
 },
 "nbformat": 4,
 "nbformat_minor": 2
}
